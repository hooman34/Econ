{
 "cells": [
  {
   "cell_type": "markdown",
   "id": "hired-finance",
   "metadata": {},
   "source": [
    "__Seasonaly adjusted__: provide a clearer view of nonseasonal trends and cyclical data that would otherwise be overshadowed by the seasonal differences. This adjustment allows economists and statisticians to better understand the underlying, base trends in a given time series. [investopia.com](https://www.investopedia.com/terms/s/seasonal-adjustment.asp)"
   ]
  }
 ],
 "metadata": {
  "kernelspec": {
   "display_name": "Python [conda env:b] *",
   "language": "python",
   "name": "conda-env-b-py"
  },
  "language_info": {
   "codemirror_mode": {
    "name": "ipython",
    "version": 3
   },
   "file_extension": ".py",
   "mimetype": "text/x-python",
   "name": "python",
   "nbconvert_exporter": "python",
   "pygments_lexer": "ipython3",
   "version": "3.9.2"
  }
 },
 "nbformat": 4,
 "nbformat_minor": 5
}
