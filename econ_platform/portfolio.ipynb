{
 "cells": [
  {
   "cell_type": "code",
   "execution_count": 2,
   "id": "dense-oxide",
   "metadata": {},
   "outputs": [],
   "source": [
    "import investpy\n",
    "import pandas as pd\n",
    "from fredapi import Fred\n",
    "import json\n",
    "from matplotlib import pyplot as plt\n",
    "import plotly.express as px\n",
    "import plotly.graph_objects as go\n",
    "import quandl\n",
    "from datetime import date\n",
    "from utils.utils import *\n",
    "from plotly.subplots import make_subplots\n",
    "import datetime\n",
    "\n",
    "with open('keys/keys.json', 'r') as key_file:\n",
    "    keys = json.load(key_file)\n",
    "    \n",
    "with open('utils/index_codes.json', 'r') as indx:\n",
    "    index_codes = json.load(indx)"
   ]
  },
  {
   "cell_type": "code",
   "execution_count": 29,
   "id": "contemporary-namibia",
   "metadata": {},
   "outputs": [],
   "source": [
    "class portfolio_analysis:\n",
    "\n",
    "    def __init__(self, ticker_list, period_type='annual'):\n",
    "        assert period_type in ['quarterly', 'annual']\n",
    "        \n",
    "        self.period_type = period_type\n",
    "        self.ticker_list = ticker_list\n",
    "        # year\n",
    "        currentDateTime = datetime.datetime.now()\n",
    "        self.date = currentDateTime.date()\n",
    "        self.year = int(date.strftime(\"%Y\"))\n",
    "\n",
    "    \n",
    "    def create_estimates(self, data_type):\n",
    "        estimate_dict = dict()\n",
    "        for ticker in self.ticker_list:\n",
    "            estimate_dict[ticker] = dict()\n",
    "            estimate_dict[ticker]['data'] = self._seekingAlpha_estimates(ticker, data_type)\n",
    "            estimate_dict[ticker]['average_growth'] = estimate_dict[ticker]['data']['v_pct_change'].mean()\n",
    "            estimate_dict[ticker]['growth_type'] = self._determine_growth_type(estimate_dict[ticker]['average_growth'])\n",
    "        \n",
    "        self.estimate_dict = estimate_dict\n",
    "        print(\"Created `estimate_dict`\")\n",
    "        \n",
    "    \n",
    "    def calculate_price_range(self, multiplier=None):\n",
    "        \"\"\"\n",
    "        For stable grower, min max estimation based on diluted eps is fairly accurate.\n",
    "        However, when it comes to fast grower, market sentiment become relatively more important.\n",
    "        For slow grower, it refers to divident paying stocks. Thus min max price should be calculated differently.\n",
    "        \"\"\"\n",
    "        if multiplier is None:\n",
    "            multiplier=[1.5, 2]\n",
    "        \n",
    "        for ticker in self.ticker_list:\n",
    "            next_year_dil_eps = self.estimate_dict[ticker]['data'].loc[\\\n",
    "                                    self.estimate_dict[ticker]['data'].year==self.year+1, 'consensus'].values[0]\n",
    "            average_growth = self.estimate_dict[ticker]['average_growth']\n",
    "            self.estimate_dict[ticker]['price_range'] = [next_year_dil_eps*average_growth*m for m in multiplier]\n",
    "        print(\"Created price_range\")\n",
    "            \n",
    "    \n",
    "    def _determine_growth_type(self, growth):\n",
    "        if (growth>10)&(growth<20):\n",
    "            return \"stable grower\"\n",
    "        elif growth>=20:\n",
    "            return \"fast grower\"\n",
    "        elif growth<=10:\n",
    "            return \"slow grower\"\n",
    "    \n",
    "        \n",
    "    def _seekingAlpha_estimates(self, ticker, data_type, key=keys['rapidAPI_seekingalpha']):\n",
    "        assert data_type in ['eps', 'revenues']        \n",
    "        url = \"https://seeking-alpha.p.rapidapi.com/symbols/get-estimates\"\n",
    "\n",
    "        querystring = {\"symbol\": ticker.lower(),\n",
    "                    \"data_type\": data_type,\n",
    "                    \"period_type\": self.period_type}\n",
    "        headers = {\n",
    "            'x-rapidapi-key': key,\n",
    "            'x-rapidapi-host': \"seeking-alpha.p.rapidapi.com\"\n",
    "        }\n",
    "\n",
    "        response = requests.request(\"GET\", url, headers=headers, params=querystring)\n",
    "        df = pd.DataFrame([response.json()['data'][i]['attributes'] for i in range(len(response.json()['data']))])\n",
    "        \n",
    "        df = df.loc[df.year.isin([self.year-2, self.year-1, self.year, self.year+1])]\n",
    "        \n",
    "        df['v'] = df['actual']\n",
    "        df.loc[df.actual.isna(), 'v'] = df.loc[df.actual.isna(), 'consensus']\n",
    "        df['v_pct_change'] = df.v.pct_change() * 100\n",
    "\n",
    "        return df"
   ]
  },
  {
   "cell_type": "code",
   "execution_count": 30,
   "id": "impaired-stationery",
   "metadata": {},
   "outputs": [
    {
     "name": "stdout",
     "output_type": "stream",
     "text": [
      "Created `estimate_dict`\n"
     ]
    }
   ],
   "source": [
    "portfolio = portfolio_analysis(['AAPL', 'AMZN', 'PYPL'])\n",
    "portfolio.create_estimates('eps')"
   ]
  },
  {
   "cell_type": "code",
   "execution_count": 31,
   "id": "further-richardson",
   "metadata": {},
   "outputs": [
    {
     "name": "stdout",
     "output_type": "stream",
     "text": [
      "Created price range\n"
     ]
    }
   ],
   "source": [
    "portfolio.calculate_price_range()"
   ]
  },
  {
   "cell_type": "code",
   "execution_count": null,
   "id": "asian-rehabilitation",
   "metadata": {},
   "outputs": [],
   "source": []
  },
  {
   "cell_type": "code",
   "execution_count": 36,
   "id": "organized-greene",
   "metadata": {},
   "outputs": [
    {
     "data": {
      "text/plain": [
       "136.42841218836054"
      ]
     },
     "execution_count": 36,
     "metadata": {},
     "output_type": "execute_result"
    }
   ],
   "source": [
    "sum(portfolio.estimate_dict['AAPL']['price_range'])/2"
   ]
  },
  {
   "cell_type": "code",
   "execution_count": 12,
   "id": "purple-floating",
   "metadata": {},
   "outputs": [
    {
     "data": {
      "text/plain": [
       "152.79"
      ]
     },
     "execution_count": 12,
     "metadata": {},
     "output_type": "execute_result"
    }
   ],
   "source": []
  },
  {
   "cell_type": "code",
   "execution_count": 13,
   "id": "addressed-gossip",
   "metadata": {},
   "outputs": [
    {
     "data": {
      "text/plain": [
       "(102.176775, 136.2357)"
      ]
     },
     "execution_count": 13,
     "metadata": {},
     "output_type": "execute_result"
    }
   ],
   "source": []
  },
  {
   "cell_type": "code",
   "execution_count": null,
   "id": "minus-norwegian",
   "metadata": {},
   "outputs": [],
   "source": []
  },
  {
   "cell_type": "code",
   "execution_count": 6,
   "id": "sharp-calvin",
   "metadata": {},
   "outputs": [
    {
     "data": {
      "text/plain": [
       "{'AAPL': {'data':    slug  actual period_end_date  quarter  year  fwd_pe  consensus        v  \\\n",
       "  0  aapl  2.9725      2019-09-30        4  2019   44.83    2.92718  2.97250   \n",
       "  1  aapl  3.2800      2020-09-30        4  2020   40.55    3.23659  3.28000   \n",
       "  2  aapl     NaN      2021-09-30        4  2021   29.86    4.39553  4.39553   \n",
       "  3  aapl     NaN      2022-09-30        4  2022   28.20    4.65453  4.65453   \n",
       "  4  aapl     NaN      2023-09-30        4  2023   26.02    5.04326  5.04326   \n",
       "  \n",
       "     v_pct_change  \n",
       "  0           NaN  \n",
       "  1     10.344828  \n",
       "  2     34.010061  \n",
       "  3      5.892350  \n",
       "  4      8.351649  ,\n",
       "  'average_growth': 14.649721778417453,\n",
       "  'growth_type': 'stable grower'},\n",
       " 'AMZN': {'data':    slug  actual period_end_date  quarter  year  fwd_pe  consensus         v  \\\n",
       "  0  amzn   23.01      2019-12-31        4  2019  163.79   20.63258  23.01000   \n",
       "  1  amzn   41.83      2020-12-31        4  2020   97.16   34.78125  41.83000   \n",
       "  2  amzn     NaN      2021-12-31        4  2021   71.09   47.53381  47.53381   \n",
       "  3  amzn     NaN      2022-12-31        4  2022   50.95   66.32578  66.32578   \n",
       "  4  amzn     NaN      2023-12-31        4  2023   37.31   90.57395  90.57395   \n",
       "  \n",
       "     v_pct_change  \n",
       "  0           NaN  \n",
       "  1     81.790526  \n",
       "  2     13.635692  \n",
       "  3     39.533902  \n",
       "  4     36.559193  ,\n",
       "  'average_growth': 42.879828339323176,\n",
       "  'growth_type': 'fast grower'},\n",
       " 'PYPL': {'data':    slug  actual period_end_date  quarter  year  fwd_pe  consensus        v  \\\n",
       "  0  pypl    3.10      2019-12-31        4  2019   87.34    3.08017  3.10000   \n",
       "  1  pypl    3.88      2020-12-31        4  2020   70.91    3.79372  3.88000   \n",
       "  2  pypl     NaN      2021-12-31        4  2021   58.98    4.56117  4.56117   \n",
       "  3  pypl     NaN      2022-12-31        4  2022   46.83    5.74434  5.74434   \n",
       "  4  pypl     NaN      2023-12-31        4  2023   37.43    7.18764  7.18764   \n",
       "  \n",
       "     v_pct_change  \n",
       "  0           NaN  \n",
       "  1     25.161290  \n",
       "  2     17.555928  \n",
       "  3     25.940055  \n",
       "  4     25.125602  ,\n",
       "  'average_growth': 23.4457187272006,\n",
       "  'growth_type': 'fast grower'}}"
      ]
     },
     "execution_count": 6,
     "metadata": {},
     "output_type": "execute_result"
    }
   ],
   "source": [
    "portfolio.estimate_dict"
   ]
  },
  {
   "cell_type": "code",
   "execution_count": 41,
   "id": "lined-smile",
   "metadata": {},
   "outputs": [
    {
     "data": {
      "text/plain": [
       "dict_keys(['data', 'average_growth', 'growth_type'])"
      ]
     },
     "execution_count": 41,
     "metadata": {},
     "output_type": "execute_result"
    }
   ],
   "source": [
    "portfolio.estimate_dict['PYPL'].keys()"
   ]
  },
  {
   "cell_type": "code",
   "execution_count": 48,
   "id": "underlying-reset",
   "metadata": {},
   "outputs": [
    {
     "data": {
      "text/plain": [
       "'fast grower'"
      ]
     },
     "execution_count": 48,
     "metadata": {},
     "output_type": "execute_result"
    }
   ],
   "source": [
    "portfolio.estimate_dict['PYPL']['growth_type']"
   ]
  },
  {
   "cell_type": "code",
   "execution_count": 49,
   "id": "roman-message",
   "metadata": {},
   "outputs": [
    {
     "data": {
      "text/plain": [
       "23.4457187272006"
      ]
     },
     "execution_count": 49,
     "metadata": {},
     "output_type": "execute_result"
    }
   ],
   "source": [
    "portfolio.estimate_dict['PYPL']['average_growth']"
   ]
  },
  {
   "cell_type": "code",
   "execution_count": 53,
   "id": "fifty-rebate",
   "metadata": {},
   "outputs": [
    {
     "data": {
      "text/html": [
       "<div>\n",
       "<style scoped>\n",
       "    .dataframe tbody tr th:only-of-type {\n",
       "        vertical-align: middle;\n",
       "    }\n",
       "\n",
       "    .dataframe tbody tr th {\n",
       "        vertical-align: top;\n",
       "    }\n",
       "\n",
       "    .dataframe thead th {\n",
       "        text-align: right;\n",
       "    }\n",
       "</style>\n",
       "<table border=\"1\" class=\"dataframe\">\n",
       "  <thead>\n",
       "    <tr style=\"text-align: right;\">\n",
       "      <th></th>\n",
       "      <th>slug</th>\n",
       "      <th>actual</th>\n",
       "      <th>period_end_date</th>\n",
       "      <th>quarter</th>\n",
       "      <th>year</th>\n",
       "      <th>fwd_pe</th>\n",
       "      <th>consensus</th>\n",
       "      <th>v</th>\n",
       "      <th>v_pct_change</th>\n",
       "    </tr>\n",
       "  </thead>\n",
       "  <tbody>\n",
       "    <tr>\n",
       "      <th>0</th>\n",
       "      <td>pypl</td>\n",
       "      <td>3.10</td>\n",
       "      <td>2019-12-31</td>\n",
       "      <td>4</td>\n",
       "      <td>2019</td>\n",
       "      <td>86.61</td>\n",
       "      <td>3.08017</td>\n",
       "      <td>3.10000</td>\n",
       "      <td>NaN</td>\n",
       "    </tr>\n",
       "    <tr>\n",
       "      <th>1</th>\n",
       "      <td>pypl</td>\n",
       "      <td>3.88</td>\n",
       "      <td>2020-12-31</td>\n",
       "      <td>4</td>\n",
       "      <td>2020</td>\n",
       "      <td>70.32</td>\n",
       "      <td>3.79372</td>\n",
       "      <td>3.88000</td>\n",
       "      <td>25.161290</td>\n",
       "    </tr>\n",
       "    <tr>\n",
       "      <th>2</th>\n",
       "      <td>pypl</td>\n",
       "      <td>NaN</td>\n",
       "      <td>2021-12-31</td>\n",
       "      <td>4</td>\n",
       "      <td>2021</td>\n",
       "      <td>58.49</td>\n",
       "      <td>4.56117</td>\n",
       "      <td>4.56117</td>\n",
       "      <td>17.555928</td>\n",
       "    </tr>\n",
       "    <tr>\n",
       "      <th>3</th>\n",
       "      <td>pypl</td>\n",
       "      <td>NaN</td>\n",
       "      <td>2022-12-31</td>\n",
       "      <td>4</td>\n",
       "      <td>2022</td>\n",
       "      <td>46.44</td>\n",
       "      <td>5.74434</td>\n",
       "      <td>5.74434</td>\n",
       "      <td>25.940055</td>\n",
       "    </tr>\n",
       "    <tr>\n",
       "      <th>4</th>\n",
       "      <td>pypl</td>\n",
       "      <td>NaN</td>\n",
       "      <td>2023-12-31</td>\n",
       "      <td>4</td>\n",
       "      <td>2023</td>\n",
       "      <td>37.12</td>\n",
       "      <td>7.18764</td>\n",
       "      <td>7.18764</td>\n",
       "      <td>25.125602</td>\n",
       "    </tr>\n",
       "  </tbody>\n",
       "</table>\n",
       "</div>"
      ],
      "text/plain": [
       "   slug  actual period_end_date  quarter  year  fwd_pe  consensus        v  \\\n",
       "0  pypl    3.10      2019-12-31        4  2019   86.61    3.08017  3.10000   \n",
       "1  pypl    3.88      2020-12-31        4  2020   70.32    3.79372  3.88000   \n",
       "2  pypl     NaN      2021-12-31        4  2021   58.49    4.56117  4.56117   \n",
       "3  pypl     NaN      2022-12-31        4  2022   46.44    5.74434  5.74434   \n",
       "4  pypl     NaN      2023-12-31        4  2023   37.12    7.18764  7.18764   \n",
       "\n",
       "   v_pct_change  \n",
       "0           NaN  \n",
       "1     25.161290  \n",
       "2     17.555928  \n",
       "3     25.940055  \n",
       "4     25.125602  "
      ]
     },
     "execution_count": 53,
     "metadata": {},
     "output_type": "execute_result"
    }
   ],
   "source": [
    "portfolio.estimate_dict['PYPL']['data']"
   ]
  },
  {
   "cell_type": "code",
   "execution_count": 56,
   "id": "complete-rapid",
   "metadata": {},
   "outputs": [
    {
     "data": {
      "text/plain": [
       "(174.825, 233.1)"
      ]
     },
     "execution_count": 56,
     "metadata": {},
     "output_type": "execute_result"
    }
   ],
   "source": [
    "4.5*25.9*1.5, 25.9*2*4.5"
   ]
  },
  {
   "cell_type": "code",
   "execution_count": null,
   "id": "contained-respect",
   "metadata": {},
   "outputs": [],
   "source": [
    "4.5"
   ]
  },
  {
   "cell_type": "code",
   "execution_count": null,
   "id": "powered-express",
   "metadata": {},
   "outputs": [],
   "source": []
  },
  {
   "cell_type": "code",
   "execution_count": null,
   "id": "knowing-geology",
   "metadata": {},
   "outputs": [],
   "source": []
  },
  {
   "cell_type": "code",
   "execution_count": 50,
   "id": "color-potter",
   "metadata": {},
   "outputs": [
    {
     "data": {
      "text/plain": [
       "(586.142968180015, 773.7087179976198)"
      ]
     },
     "execution_count": 50,
     "metadata": {},
     "output_type": "execute_result"
    }
   ],
   "source": [
    "25*23.4457187272006, 33*23.4457187272006"
   ]
  },
  {
   "cell_type": "code",
   "execution_count": null,
   "id": "martial-creature",
   "metadata": {},
   "outputs": [],
   "source": []
  },
  {
   "cell_type": "code",
   "execution_count": null,
   "id": "forced-zambia",
   "metadata": {},
   "outputs": [],
   "source": []
  },
  {
   "cell_type": "code",
   "execution_count": null,
   "id": "nuclear-discharge",
   "metadata": {},
   "outputs": [],
   "source": []
  },
  {
   "cell_type": "code",
   "execution_count": null,
   "id": "constant-olive",
   "metadata": {},
   "outputs": [],
   "source": [
    "df = df.drop(['values'], axis=1)"
   ]
  },
  {
   "cell_type": "code",
   "execution_count": 21,
   "id": "present-influence",
   "metadata": {},
   "outputs": [],
   "source": [
    "df['v'] = df['actual']\n",
    "df.loc[df.actual.isna(), 'v'] = df.loc[df.actual.isna(), 'consensus']\n",
    "\n",
    "df['v_pct_change'] = df.v.pct_change()*100\n",
    "average_growth = df.v_pct_change.mean()\n",
    "df['avg_growth'] = average_growth"
   ]
  },
  {
   "cell_type": "code",
   "execution_count": null,
   "id": "green-steal",
   "metadata": {},
   "outputs": [],
   "source": []
  },
  {
   "cell_type": "code",
   "execution_count": null,
   "id": "massive-television",
   "metadata": {},
   "outputs": [],
   "source": []
  },
  {
   "cell_type": "code",
   "execution_count": null,
   "id": "brazilian-radiation",
   "metadata": {},
   "outputs": [],
   "source": []
  },
  {
   "cell_type": "code",
   "execution_count": 31,
   "id": "physical-senator",
   "metadata": {},
   "outputs": [
    {
     "name": "stdout",
     "output_type": "stream",
     "text": [
      "stable_growth\n"
     ]
    }
   ],
   "source": [
    "\n",
    "\n",
    "if (average_growth>10) and (average_growth<=20):\n",
    "    print(\"stable_growth\")\n",
    "elif (average_growth>20):\n",
    "    df['stock_type'] = \"fast_growth\"\n",
    "    "
   ]
  },
  {
   "cell_type": "code",
   "execution_count": 30,
   "id": "collect-longitude",
   "metadata": {
    "scrolled": true
   },
   "outputs": [
    {
     "data": {
      "text/html": [
       "<div>\n",
       "<style scoped>\n",
       "    .dataframe tbody tr th:only-of-type {\n",
       "        vertical-align: middle;\n",
       "    }\n",
       "\n",
       "    .dataframe tbody tr th {\n",
       "        vertical-align: top;\n",
       "    }\n",
       "\n",
       "    .dataframe thead th {\n",
       "        text-align: right;\n",
       "    }\n",
       "</style>\n",
       "<table border=\"1\" class=\"dataframe\">\n",
       "  <thead>\n",
       "    <tr style=\"text-align: right;\">\n",
       "      <th></th>\n",
       "      <th>slug</th>\n",
       "      <th>actual</th>\n",
       "      <th>period_end_date</th>\n",
       "      <th>quarter</th>\n",
       "      <th>year</th>\n",
       "      <th>fwd_pe</th>\n",
       "      <th>consensus</th>\n",
       "      <th>v</th>\n",
       "      <th>v_pct_change</th>\n",
       "      <th>avg_growth</th>\n",
       "      <th>stock_type</th>\n",
       "    </tr>\n",
       "  </thead>\n",
       "  <tbody>\n",
       "    <tr>\n",
       "      <th>0</th>\n",
       "      <td>aapl</td>\n",
       "      <td>2.9725</td>\n",
       "      <td>2019-09-30</td>\n",
       "      <td>4</td>\n",
       "      <td>2019</td>\n",
       "      <td>45.43</td>\n",
       "      <td>2.92718</td>\n",
       "      <td>2.97250</td>\n",
       "      <td>NaN</td>\n",
       "      <td>14.649722</td>\n",
       "      <td>stable_growth</td>\n",
       "    </tr>\n",
       "    <tr>\n",
       "      <th>1</th>\n",
       "      <td>aapl</td>\n",
       "      <td>3.2800</td>\n",
       "      <td>2020-09-30</td>\n",
       "      <td>4</td>\n",
       "      <td>2020</td>\n",
       "      <td>41.09</td>\n",
       "      <td>3.23659</td>\n",
       "      <td>3.28000</td>\n",
       "      <td>10.344828</td>\n",
       "      <td>14.649722</td>\n",
       "      <td>stable_growth</td>\n",
       "    </tr>\n",
       "    <tr>\n",
       "      <th>2</th>\n",
       "      <td>aapl</td>\n",
       "      <td>NaN</td>\n",
       "      <td>2021-09-30</td>\n",
       "      <td>4</td>\n",
       "      <td>2021</td>\n",
       "      <td>30.26</td>\n",
       "      <td>4.39553</td>\n",
       "      <td>4.39553</td>\n",
       "      <td>34.010061</td>\n",
       "      <td>14.649722</td>\n",
       "      <td>stable_growth</td>\n",
       "    </tr>\n",
       "    <tr>\n",
       "      <th>3</th>\n",
       "      <td>aapl</td>\n",
       "      <td>NaN</td>\n",
       "      <td>2022-09-30</td>\n",
       "      <td>4</td>\n",
       "      <td>2022</td>\n",
       "      <td>28.57</td>\n",
       "      <td>4.65453</td>\n",
       "      <td>4.65453</td>\n",
       "      <td>5.892350</td>\n",
       "      <td>14.649722</td>\n",
       "      <td>stable_growth</td>\n",
       "    </tr>\n",
       "    <tr>\n",
       "      <th>4</th>\n",
       "      <td>aapl</td>\n",
       "      <td>NaN</td>\n",
       "      <td>2023-09-30</td>\n",
       "      <td>4</td>\n",
       "      <td>2023</td>\n",
       "      <td>26.37</td>\n",
       "      <td>5.04326</td>\n",
       "      <td>5.04326</td>\n",
       "      <td>8.351649</td>\n",
       "      <td>14.649722</td>\n",
       "      <td>stable_growth</td>\n",
       "    </tr>\n",
       "  </tbody>\n",
       "</table>\n",
       "</div>"
      ],
      "text/plain": [
       "   slug  actual period_end_date  quarter  year  fwd_pe  consensus        v  \\\n",
       "0  aapl  2.9725      2019-09-30        4  2019   45.43    2.92718  2.97250   \n",
       "1  aapl  3.2800      2020-09-30        4  2020   41.09    3.23659  3.28000   \n",
       "2  aapl     NaN      2021-09-30        4  2021   30.26    4.39553  4.39553   \n",
       "3  aapl     NaN      2022-09-30        4  2022   28.57    4.65453  4.65453   \n",
       "4  aapl     NaN      2023-09-30        4  2023   26.37    5.04326  5.04326   \n",
       "\n",
       "   v_pct_change  avg_growth     stock_type  \n",
       "0           NaN   14.649722  stable_growth  \n",
       "1     10.344828   14.649722  stable_growth  \n",
       "2     34.010061   14.649722  stable_growth  \n",
       "3      5.892350   14.649722  stable_growth  \n",
       "4      8.351649   14.649722  stable_growth  "
      ]
     },
     "execution_count": 30,
     "metadata": {},
     "output_type": "execute_result"
    }
   ],
   "source": [
    "df"
   ]
  },
  {
   "cell_type": "code",
   "execution_count": null,
   "id": "reported-approval",
   "metadata": {},
   "outputs": [],
   "source": []
  },
  {
   "cell_type": "code",
   "execution_count": null,
   "id": "afraid-projector",
   "metadata": {},
   "outputs": [],
   "source": []
  },
  {
   "cell_type": "code",
   "execution_count": null,
   "id": "quality-engineer",
   "metadata": {},
   "outputs": [],
   "source": []
  },
  {
   "cell_type": "code",
   "execution_count": null,
   "id": "judicial-juice",
   "metadata": {},
   "outputs": [],
   "source": [
    "df['average'] = df['actual']\n",
    "df.loc[df['actual'].isna(), 'average'] = df.loc[df['actual'].isna(), 'consensus']\n",
    "df['average'] = df['average'].mean()"
   ]
  },
  {
   "cell_type": "code",
   "execution_count": 10,
   "id": "comfortable-premium",
   "metadata": {},
   "outputs": [
    {
     "data": {
      "text/html": [
       "<div>\n",
       "<style scoped>\n",
       "    .dataframe tbody tr th:only-of-type {\n",
       "        vertical-align: middle;\n",
       "    }\n",
       "\n",
       "    .dataframe tbody tr th {\n",
       "        vertical-align: top;\n",
       "    }\n",
       "\n",
       "    .dataframe thead th {\n",
       "        text-align: right;\n",
       "    }\n",
       "</style>\n",
       "<table border=\"1\" class=\"dataframe\">\n",
       "  <thead>\n",
       "    <tr style=\"text-align: right;\">\n",
       "      <th></th>\n",
       "      <th>slug</th>\n",
       "      <th>actual</th>\n",
       "      <th>period_end_date</th>\n",
       "      <th>quarter</th>\n",
       "      <th>year</th>\n",
       "      <th>fwd_pe</th>\n",
       "      <th>consensus</th>\n",
       "      <th>average</th>\n",
       "    </tr>\n",
       "  </thead>\n",
       "  <tbody>\n",
       "    <tr>\n",
       "      <th>0</th>\n",
       "      <td>aapl</td>\n",
       "      <td>2.9725</td>\n",
       "      <td>2019-09-30</td>\n",
       "      <td>4</td>\n",
       "      <td>2019</td>\n",
       "      <td>45.43</td>\n",
       "      <td>2.92718</td>\n",
       "      <td>4.069164</td>\n",
       "    </tr>\n",
       "    <tr>\n",
       "      <th>1</th>\n",
       "      <td>aapl</td>\n",
       "      <td>3.2800</td>\n",
       "      <td>2020-09-30</td>\n",
       "      <td>4</td>\n",
       "      <td>2020</td>\n",
       "      <td>41.09</td>\n",
       "      <td>3.23659</td>\n",
       "      <td>4.069164</td>\n",
       "    </tr>\n",
       "    <tr>\n",
       "      <th>2</th>\n",
       "      <td>aapl</td>\n",
       "      <td>NaN</td>\n",
       "      <td>2021-09-30</td>\n",
       "      <td>4</td>\n",
       "      <td>2021</td>\n",
       "      <td>30.26</td>\n",
       "      <td>4.39553</td>\n",
       "      <td>4.069164</td>\n",
       "    </tr>\n",
       "    <tr>\n",
       "      <th>3</th>\n",
       "      <td>aapl</td>\n",
       "      <td>NaN</td>\n",
       "      <td>2022-09-30</td>\n",
       "      <td>4</td>\n",
       "      <td>2022</td>\n",
       "      <td>28.57</td>\n",
       "      <td>4.65453</td>\n",
       "      <td>4.069164</td>\n",
       "    </tr>\n",
       "    <tr>\n",
       "      <th>4</th>\n",
       "      <td>aapl</td>\n",
       "      <td>NaN</td>\n",
       "      <td>2023-09-30</td>\n",
       "      <td>4</td>\n",
       "      <td>2023</td>\n",
       "      <td>26.37</td>\n",
       "      <td>5.04326</td>\n",
       "      <td>4.069164</td>\n",
       "    </tr>\n",
       "  </tbody>\n",
       "</table>\n",
       "</div>"
      ],
      "text/plain": [
       "   slug  actual period_end_date  quarter  year  fwd_pe  consensus   average\n",
       "0  aapl  2.9725      2019-09-30        4  2019   45.43    2.92718  4.069164\n",
       "1  aapl  3.2800      2020-09-30        4  2020   41.09    3.23659  4.069164\n",
       "2  aapl     NaN      2021-09-30        4  2021   30.26    4.39553  4.069164\n",
       "3  aapl     NaN      2022-09-30        4  2022   28.57    4.65453  4.069164\n",
       "4  aapl     NaN      2023-09-30        4  2023   26.37    5.04326  4.069164"
      ]
     },
     "execution_count": 10,
     "metadata": {},
     "output_type": "execute_result"
    }
   ],
   "source": [
    "df"
   ]
  },
  {
   "cell_type": "code",
   "execution_count": null,
   "id": "asian-diagram",
   "metadata": {},
   "outputs": [],
   "source": []
  },
  {
   "cell_type": "code",
   "execution_count": null,
   "id": "accomplished-payroll",
   "metadata": {},
   "outputs": [],
   "source": []
  },
  {
   "cell_type": "code",
   "execution_count": 5,
   "id": "micro-wisconsin",
   "metadata": {},
   "outputs": [],
   "source": [
    "def call_estimates(ticker_list, data_type, period_type='annual'):\n",
    "    estimate_list = list()\n",
    "    for ticker in ticker_list:\n",
    "        estimate_list.append(seekingAlpha_estimates(ticker, data_type, period_type))\n",
    "        \n",
    "    estimates_all = pd.concat(estimate_list, axis=0)\n",
    "    return estimates_all"
   ]
  },
  {
   "cell_type": "code",
   "execution_count": 7,
   "id": "bottom-glasgow",
   "metadata": {},
   "outputs": [],
   "source": [
    "df = call_estimates([\"AAPL\", \"AMZN\", \"LMT\", \"MSFT\", \"PYPL\", \"O\", \"GOOGL\", \"JPM\", \"PG\"], 'eps')"
   ]
  },
  {
   "cell_type": "code",
   "execution_count": 8,
   "id": "annoying-incident",
   "metadata": {},
   "outputs": [
    {
     "data": {
      "text/html": [
       "<div>\n",
       "<style scoped>\n",
       "    .dataframe tbody tr th:only-of-type {\n",
       "        vertical-align: middle;\n",
       "    }\n",
       "\n",
       "    .dataframe tbody tr th {\n",
       "        vertical-align: top;\n",
       "    }\n",
       "\n",
       "    .dataframe thead th {\n",
       "        text-align: right;\n",
       "    }\n",
       "</style>\n",
       "<table border=\"1\" class=\"dataframe\">\n",
       "  <thead>\n",
       "    <tr style=\"text-align: right;\">\n",
       "      <th></th>\n",
       "      <th>slug</th>\n",
       "      <th>actual</th>\n",
       "      <th>period_end_date</th>\n",
       "      <th>quarter</th>\n",
       "      <th>year</th>\n",
       "      <th>fwd_pe</th>\n",
       "      <th>consensus</th>\n",
       "      <th>average</th>\n",
       "    </tr>\n",
       "  </thead>\n",
       "  <tbody>\n",
       "    <tr>\n",
       "      <th>0</th>\n",
       "      <td>aapl</td>\n",
       "      <td>2.9725</td>\n",
       "      <td>2019-09-30</td>\n",
       "      <td>4</td>\n",
       "      <td>2019</td>\n",
       "      <td>45.43</td>\n",
       "      <td>2.92718</td>\n",
       "      <td>4.067952</td>\n",
       "    </tr>\n",
       "    <tr>\n",
       "      <th>1</th>\n",
       "      <td>aapl</td>\n",
       "      <td>3.2800</td>\n",
       "      <td>2020-09-30</td>\n",
       "      <td>4</td>\n",
       "      <td>2020</td>\n",
       "      <td>41.09</td>\n",
       "      <td>3.23659</td>\n",
       "      <td>4.067952</td>\n",
       "    </tr>\n",
       "    <tr>\n",
       "      <th>2</th>\n",
       "      <td>aapl</td>\n",
       "      <td>NaN</td>\n",
       "      <td>2021-09-30</td>\n",
       "      <td>4</td>\n",
       "      <td>2021</td>\n",
       "      <td>30.27</td>\n",
       "      <td>4.39318</td>\n",
       "      <td>4.067952</td>\n",
       "    </tr>\n",
       "    <tr>\n",
       "      <th>3</th>\n",
       "      <td>aapl</td>\n",
       "      <td>NaN</td>\n",
       "      <td>2022-09-30</td>\n",
       "      <td>4</td>\n",
       "      <td>2022</td>\n",
       "      <td>28.58</td>\n",
       "      <td>4.65396</td>\n",
       "      <td>4.067952</td>\n",
       "    </tr>\n",
       "    <tr>\n",
       "      <th>4</th>\n",
       "      <td>aapl</td>\n",
       "      <td>NaN</td>\n",
       "      <td>2023-09-30</td>\n",
       "      <td>4</td>\n",
       "      <td>2023</td>\n",
       "      <td>26.39</td>\n",
       "      <td>5.04012</td>\n",
       "      <td>4.067952</td>\n",
       "    </tr>\n",
       "  </tbody>\n",
       "</table>\n",
       "</div>"
      ],
      "text/plain": [
       "   slug  actual period_end_date  quarter  year  fwd_pe  consensus   average\n",
       "0  aapl  2.9725      2019-09-30        4  2019   45.43    2.92718  4.067952\n",
       "1  aapl  3.2800      2020-09-30        4  2020   41.09    3.23659  4.067952\n",
       "2  aapl     NaN      2021-09-30        4  2021   30.27    4.39318  4.067952\n",
       "3  aapl     NaN      2022-09-30        4  2022   28.58    4.65396  4.067952\n",
       "4  aapl     NaN      2023-09-30        4  2023   26.39    5.04012  4.067952"
      ]
     },
     "execution_count": 8,
     "metadata": {},
     "output_type": "execute_result"
    }
   ],
   "source": [
    "df.head()"
   ]
  },
  {
   "cell_type": "code",
   "execution_count": null,
   "id": "south-offering",
   "metadata": {},
   "outputs": [],
   "source": []
  },
  {
   "cell_type": "code",
   "execution_count": null,
   "id": "encouraging-quebec",
   "metadata": {},
   "outputs": [],
   "source": []
  },
  {
   "cell_type": "code",
   "execution_count": null,
   "id": "heavy-public",
   "metadata": {},
   "outputs": [],
   "source": []
  }
 ],
 "metadata": {
  "kernelspec": {
   "display_name": "Python [conda env:b] *",
   "language": "python",
   "name": "conda-env-b-py"
  },
  "language_info": {
   "codemirror_mode": {
    "name": "ipython",
    "version": 3
   },
   "file_extension": ".py",
   "mimetype": "text/x-python",
   "name": "python",
   "nbconvert_exporter": "python",
   "pygments_lexer": "ipython3",
   "version": "3.9.2"
  }
 },
 "nbformat": 4,
 "nbformat_minor": 5
}
